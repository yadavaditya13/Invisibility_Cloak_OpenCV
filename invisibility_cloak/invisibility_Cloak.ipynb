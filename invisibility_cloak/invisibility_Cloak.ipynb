{
 "cells": [
  {
   "cell_type": "code",
   "execution_count": 6,
   "metadata": {},
   "outputs": [],
   "source": [
    "# importing required packages\n",
    "\n",
    "from imutils.video import VideoStream\n",
    "import numpy as np\n",
    "import time\n",
    "import cv2"
   ]
  },
  {
   "cell_type": "code",
   "execution_count": 4,
   "metadata": {},
   "outputs": [],
   "source": [
    "# let's capture the backgroung before had for acquisition\n",
    "# creating an object for videoStream\n",
    "\n",
    "vs = VideoStream(src=0)\n",
    "time.sleep(2)"
   ]
  },
  {
   "cell_type": "code",
   "execution_count": 8,
   "metadata": {},
   "outputs": [],
   "source": [
    "# capturing background \n",
    "\n",
    "background = 0\n",
    "for i in range(30):\n",
    "    background = vs.read()\n",
    "vs.stop()"
   ]
  },
  {
   "cell_type": "code",
   "execution_count": 9,
   "metadata": {},
   "outputs": [],
   "source": [
    "# laterally inverting / flipping the image\n",
    "background = np.flip(background, axis=1)"
   ]
  },
  {
   "cell_type": "code",
   "execution_count": 10,
   "metadata": {},
   "outputs": [],
   "source": [
    "# let's detect the required color on the cloth to make it invisible\n",
    "\n",
    "frame = vs.read()\n",
    "frame = np.flip(frame, axis=1)\n",
    "\n",
    "# converting BGR to HSV color space\n",
    "hsv = cv2.cvtColor(frame, cv2.COLOR_BGR2HSV)"
   ]
  },
  {
   "cell_type": "code",
   "execution_count": 11,
   "metadata": {},
   "outputs": [],
   "source": [
    "# the range for lower red\n",
    "\n",
    "lowerRed = np.array([0, 120, 70])\n",
    "upperRed = np.array([10, 255, 255])\n",
    "mask1 = cv2.inRange(hsv, lowerRed, upperRed)\n",
    "\n",
    "# range for upper red\n",
    "lowerRed = np.array([170, 120, 70])\n",
    "upperRed = np.array([180, 255, 255])\n",
    "mask2 = cv2.inRange(hsv, lowerRed, upperRed)\n",
    "\n",
    "# generating final mask to detect red color\n",
    "mask = mask1 + mask2"
   ]
  },
  {
   "cell_type": "code",
   "execution_count": 12,
   "metadata": {},
   "outputs": [],
   "source": [
    "# let's begin segmenting the cloth from the frames\n",
    "\n",
    "mask = cv2.morphologyEx(mask, cv2.MORPH_OPEN, np.ones((3, 3), np.uint8))\n",
    "mask = cv2.morphologyEx(mask, cv2.MORPH_DILATE, np.ones((3, 3), np.uint8))\n",
    "\n",
    "# creating an inverted mask to segment out the cloth from the frame\n",
    "mask_invert = cv2.bitwise_not(mask)\n",
    "\n",
    "# segmenting the cloth out of frame\n",
    "res_frame = cv2.bitwise_and(frame, frame, mask=mask_invert)"
   ]
  },
  {
   "cell_type": "code",
   "execution_count": 13,
   "metadata": {},
   "outputs": [],
   "source": [
    "# computing resulted image\n",
    "res_frame2 = cv2.bitwise_and(background, background, mask=mask)\n",
    "final_frame = cv2.addWeighted(res_frame, 1, res_frame2, 1, 0)"
   ]
  },
  {
   "cell_type": "code",
   "execution_count": null,
   "metadata": {},
   "outputs": [],
   "source": [
    "# displaying the frame\n",
    "\n",
    "cv2.imshow(\"Invisibility:\", final_frame)\n",
    "cv2.waitKey(1)"
   ]
  }
 ],
 "metadata": {
  "kernelspec": {
   "display_name": "Python 3",
   "language": "python",
   "name": "python3"
  },
  "language_info": {
   "codemirror_mode": {
    "name": "ipython",
    "version": 3
   },
   "file_extension": ".py",
   "mimetype": "text/x-python",
   "name": "python",
   "nbconvert_exporter": "python",
   "pygments_lexer": "ipython3",
   "version": "3.7.4"
  }
 },
 "nbformat": 4,
 "nbformat_minor": 2
}
